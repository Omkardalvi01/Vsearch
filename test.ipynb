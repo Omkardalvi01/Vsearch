{
 "cells": [
  {
   "cell_type": "code",
   "execution_count": null,
   "id": "e8ea9b6b",
   "metadata": {},
   "outputs": [
    {
     "name": "stderr",
     "output_type": "stream",
     "text": [
      "c:\\Users\\smile\\Desktop\\Python\\VectorDB\\vectordb\\Lib\\site-packages\\tqdm\\auto.py:21: TqdmWarning: IProgress not found. Please update jupyter and ipywidgets. See https://ipywidgets.readthedocs.io/en/stable/user_install.html\n",
      "  from .autonotebook import tqdm as notebook_tqdm\n",
      "Xet Storage is enabled for this repo, but the 'hf_xet' package is not installed. Falling back to regular HTTP download. For better performance, install the package with: `pip install huggingface_hub[hf_xet]` or `pip install hf_xet`\n"
     ]
    },
    {
     "name": "stdout",
     "output_type": "stream",
     "text": [
      "[0.08429645001888275, 0.05795370042324066, 0.004493384622037411, 0.10582107305526733, 0.00708338338881731]\n"
     ]
    }
   ],
   "source": [
    "from langchain_community.embeddings import HuggingFaceEmbeddings\n",
    "\n",
    "# You can choose any sentence-transformers compatible model\n",
    "model_name = \"sentence-transformers/all-MiniLM-L6-v2\"\n",
    "\n",
    "# Initialize the embeddings\n",
    "embedding_model = HuggingFaceEmbeddings(model_name=model_name)\n",
    "\n",
    "# Example: Embed a single document\n",
    "vector = embedding_model.embed_query(\"This is a test sentence.\")\n",
    "print(vector[:5])  # Print first 5 dimensions\n",
    "\n",
    "# Example: Embed multiple documents\n",
    "docs = [\"Document 1\", \"Another document\", \"Something else\"]\n",
    "vectors = embedding_model.embed_documents(docs)"
   ]
  },
  {
   "cell_type": "code",
   "execution_count": 8,
   "id": "d066b6af",
   "metadata": {},
   "outputs": [],
   "source": [
    "import numpy\n",
    "import pickle\n",
    "lis = []\n",
    "save = numpy.array(lis)\n",
    "with open(\"save.pkl\",\"wb\") as f:\n",
    "    pickle.dump(lis,f)"
   ]
  },
  {
   "cell_type": "code",
   "execution_count": null,
   "id": "50c841c5",
   "metadata": {},
   "outputs": [
    {
     "name": "stdout",
     "output_type": "stream",
     "text": [
      "<class 'numpy.ndarray'>\n"
     ]
    }
   ],
   "source": [
    "with open(\"save.pkl\", \"rb\") as f:\n",
    "    array = pickle.load(f)\n",
    "print(type(array))"
   ]
  },
  {
   "cell_type": "code",
   "execution_count": null,
   "id": "992520d2",
   "metadata": {},
   "outputs": [
    {
     "name": "stdout",
     "output_type": "stream",
     "text": [
      "cpu\n"
     ]
    },
    {
     "data": {
      "text/plain": [
       "list"
      ]
     },
     "execution_count": 6,
     "metadata": {},
     "output_type": "execute_result"
    }
   ],
   "source": [
    "import torch\n",
    "import numpy\n",
    "import pickle\n",
    "from langchain_community.embeddings import HuggingFaceEmbeddings\n",
    "\n",
    "device = \"cuda\" if torch.cuda.is_available() else \"cpu\"\n",
    "\n",
    "\n",
    "embedding_model = HuggingFaceEmbeddings(\n",
    "    model_name=\"sentence-transformers/all-MiniLM-L6-v2\",\n",
    "    model_kwargs={\"device\": device}  # This sets it to use GPU if available\n",
    ")\n",
    "vector = embedding_model.embed_query(\"Embed this text\")\n",
    "type(vector)"
   ]
  },
  {
   "cell_type": "code",
   "execution_count": null,
   "id": "a9376530",
   "metadata": {},
   "outputs": [
    {
     "data": {
      "text/plain": [
       "np.float64(0.49459483920942143)"
      ]
     },
     "execution_count": 17,
     "metadata": {},
     "output_type": "execute_result"
    }
   ],
   "source": [
    "import numpy as np\n",
    "with open(\"save.pkl\", \"rb\") as f:\n",
    "    array = pickle.load(f)\n",
    "\n",
    "a = np.array(vector)\n",
    "\n",
    "vec2 = embedding_model.embed_query(\"This is second text\")\n",
    "b = np.array(vec2)\n",
    "\n",
    "def similarity_cosine(a, b):\n",
    "    return np.dot(a , b) / np.linalg.norm(a) * np.linalg.norm(b)\n",
    "\n",
    "similarity_cosine(a,b)"
   ]
  },
  {
   "cell_type": "code",
   "execution_count": null,
   "id": "316fceab",
   "metadata": {},
   "outputs": [],
   "source": []
  }
 ],
 "metadata": {
  "kernelspec": {
   "display_name": "vectordb",
   "language": "python",
   "name": "python3"
  },
  "language_info": {
   "codemirror_mode": {
    "name": "ipython",
    "version": 3
   },
   "file_extension": ".py",
   "mimetype": "text/x-python",
   "name": "python",
   "nbconvert_exporter": "python",
   "pygments_lexer": "ipython3",
   "version": "3.11.1"
  }
 },
 "nbformat": 4,
 "nbformat_minor": 5
}
